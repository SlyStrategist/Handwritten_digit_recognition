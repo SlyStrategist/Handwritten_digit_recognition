import tensorflow as tf
import tensorflow.keras.layers as k
import matplotlib.pyplot as plt
import numpy as np
mnist = tf.keras.datasets.mnist
(x_train, y_train), (x_test, y_test) = mnist.load_data()



x_train = tf.keras.utils.normalize(x_train, axis=1)
x_test = tf.keras.utils.normalize(x_test, axis=1)
model = tf.keras.models.Sequential()
model.add(k.Flatten(input_shape = (28, 28)))
model.add(k.Dense(128, activation=tf.nn.relu))
model.add(k.Dense(64, activation=tf.nn.relu))
model.add(k.Dense(64, activation=tf.nn.relu))
model.add(k.Dense(32, activation=tf.nn.relu))
model.add(k.Dense(10, activation=tf.nn.softmax))

model.compile(optimizer='adam', 
             loss='sparse_categorical_crossentropy',
             metrics=['accuracy'])
model.fit(x_train, y_train, epochs=10 )



val_losss, val_accuracy = model.evaluate(x_test, y_test)
print(val_losss, val_accuracy)

model.save('first_mod.model')


new_model = tf.keras.models.load_model('first_mod.model')
answer = new_model.predict([x_test])
for i in range(1000):
    if np.argmax(answer[i]) != y_test[i]:
        plt.imshow(x_test[i])
        plt.show()
        print('my prediction =  ' , np.argmax(answer[i]) , '    real answer =  ' , y_test[i]  )
